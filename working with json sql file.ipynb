{
 "cells": [
  {
   "cell_type": "code",
   "execution_count": null,
   "id": "treated-addition",
   "metadata": {},
   "outputs": [],
   "source": [
    "import pandas as pd\n",
    "\n"
   ]
  },
  {
   "cell_type": "markdown",
   "id": "compliant-swiss",
   "metadata": {},
   "source": [
    "# Working with Json\n"
   ]
  },
  {
   "cell_type": "code",
   "execution_count": null,
   "id": "agreed-irrigation",
   "metadata": {},
   "outputs": [],
   "source": [
    "pd.read_json('file locationor file name')"
   ]
  },
  {
   "cell_type": "markdown",
   "id": "sealed-partition",
   "metadata": {},
   "source": [
    "# loading json from url"
   ]
  },
  {
   "cell_type": "code",
   "execution_count": null,
   "id": "acute-dairy",
   "metadata": {},
   "outputs": [],
   "source": [
    "pd.read_json('url name')"
   ]
  },
  {
   "cell_type": "markdown",
   "id": "planned-arrest",
   "metadata": {},
   "source": [
    "## working with SQL"
   ]
  },
  {
   "cell_type": "code",
   "execution_count": null,
   "id": "shaped-hours",
   "metadata": {},
   "outputs": [],
   "source": [
    "#1. Download xampp\n",
    "# 2.localhost/phpmyadmin\n",
    "#   create new database\n",
    "#   import that file\n",
    "    \n",
    "\n",
    "!pip install mysql.connector\n",
    "import mysql.connector\n",
    "conn = mysql.connector.connect(host='localhost',user='root',password='',database='world')#database ma database ko naam lakhney\n",
    "\n",
    "df = pd.read_sql_query(\"SELECT * FROM countrylanguage\",conn)"
   ]
  }
 ],
 "metadata": {
  "kernelspec": {
   "display_name": "Python 3",
   "language": "python",
   "name": "python3"
  },
  "language_info": {
   "codemirror_mode": {
    "name": "ipython",
    "version": 3
   },
   "file_extension": ".py",
   "mimetype": "text/x-python",
   "name": "python",
   "nbconvert_exporter": "python",
   "pygments_lexer": "ipython3",
   "version": "3.9.1"
  }
 },
 "nbformat": 4,
 "nbformat_minor": 5
}
